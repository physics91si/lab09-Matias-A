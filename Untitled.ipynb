{
 "cells": [
  {
   "cell_type": "code",
   "execution_count": 21,
   "metadata": {},
   "outputs": [],
   "source": [
    "from particle import Particle\n",
    "import numpy as np\n",
    "\n",
    "class Molecule:\n",
    "    def __init__(self, pos1, pos2, m1, m2, spr, eq):\n",
    "        self.p1=Particle(pos1, m1)\n",
    "        self.p2=Particle(pos2, m2)\n",
    "        self.k = spr\n",
    "        self.L0=eq\n",
    "\n",
    "    def get_displ(self):\n",
    "        return self.p2.pos-self.p1.pos\n",
    "    def get_force(self):\n",
    "        displ=self.get_displ()\n",
    "        distance = np.sqrt(displ[0]**2+displ[1]**2)\n",
    "        magnitude = (distance-self.L0)*self.k\n",
    "        return (magnitude/distance)*displ"
   ]
  },
  {
   "cell_type": "code",
   "execution_count": 22,
   "metadata": {},
   "outputs": [],
   "source": [
    "pos1 = np.asarray((1,2))\n",
    "pos2 = np.asarray((5,3))\n",
    "m1 = 3\n",
    "m2 = 4\n",
    "spr = 1\n",
    "eq = 0\n",
    "mol = Molecule(pos1, pos2, m1, m2, spr, eq)"
   ]
  },
  {
   "cell_type": "code",
   "execution_count": 23,
   "metadata": {},
   "outputs": [
    {
     "name": "stdout",
     "output_type": "stream",
     "text": [
      "[4. 1.]\n"
     ]
    }
   ],
   "source": [
    "print(mol.get_force())"
   ]
  },
  {
   "cell_type": "code",
   "execution_count": null,
   "metadata": {},
   "outputs": [],
   "source": []
  }
 ],
 "metadata": {
  "kernelspec": {
   "display_name": "Python 3",
   "language": "python",
   "name": "python3"
  },
  "language_info": {
   "codemirror_mode": {
    "name": "ipython",
    "version": 2
   },
   "file_extension": ".py",
   "mimetype": "text/x-python",
   "name": "python",
   "nbconvert_exporter": "python",
   "pygments_lexer": "ipython2",
   "version": "2.7.14"
  }
 },
 "nbformat": 4,
 "nbformat_minor": 2
}
